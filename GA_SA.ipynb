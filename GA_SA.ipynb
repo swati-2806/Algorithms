{
  "nbformat": 4,
  "nbformat_minor": 0,
  "metadata": {
    "colab": {
      "name": "GA-SA.ipynb",
      "provenance": [],
      "collapsed_sections": [],
      "include_colab_link": true
    },
    "kernelspec": {
      "display_name": "Python 3",
      "name": "python3"
    },
    "language_info": {
      "name": "python"
    }
  },
  "cells": [
    {
      "cell_type": "markdown",
      "metadata": {
        "id": "view-in-github",
        "colab_type": "text"
      },
      "source": [
        "<a href=\"https://colab.research.google.com/github/swati-2806/Algorithms/blob/master/GA_SA.ipynb\" target=\"_parent\"><img src=\"https://colab.research.google.com/assets/colab-badge.svg\" alt=\"Open In Colab\"/></a>"
      ]
    },
    {
      "cell_type": "code",
      "metadata": {
        "colab": {
          "base_uri": "https://localhost:8080/",
          "height": 1000
        },
        "id": "7z7noGBl8kB3",
        "outputId": "0e94486a-188c-417c-b85f-e32dee20d7e7"
      },
      "source": [
        "import utilities as ut\n",
        "import KnapSack as KS\n",
        "import numpy as np\n",
        "import Algorithms\n",
        "import os\n",
        "\n",
        "class Main(object):\n",
        "    def __init__(self,dataset=\"/content/sample_data/TestDataset/f1_l-d_kp_10_269\",num_iterations=1,algorithm=0,\n",
        "                population_size=100,Pcross=0.8,Pmutate=0.2,k=20,GA_iterations=100,\n",
        "                SA_iterations=2000,MaxTemp=200,TempChange=0.80,\n",
        "                HybridGAIterations=150,HybridSAIterations=150):\n",
        "\n",
        "        self.dataset = dataset\n",
        "        self.num_iterations = num_iterations\n",
        "\n",
        "        self.filename_w_ext = os.path.basename(dataset)\n",
        "        #try:\n",
        "        self.optimal_value = ut.getOptimalValue(self.filename_w_ext)\n",
        "        #except:\n",
        "        #self.optimal_value = 0\n",
        "\n",
        "        #get file into array\n",
        "        #self.arr = ut.readfile(\"./TestDataset/\"+self.dataset)\n",
        "        self.arr = ut.readfile(self.dataset)\n",
        "\n",
        "        self.n_items = self.arr[0][0] #first line first element\n",
        "        self.max_weight = self.arr[0][1] #first line second element\n",
        "\n",
        "        self.population_size = population_size\n",
        "        if self.population_size%2!=0:\n",
        "            self.population_size += 1\n",
        "        self.Pcross = Pcross\n",
        "        self.Pmutate = Pmutate\n",
        "        self.k = k\n",
        "        self.GA_iterations = GA_iterations\n",
        "\n",
        "        self.SA_iterations = SA_iterations\n",
        "        self.MaxTemp = MaxTemp\n",
        "        self.TempChange = TempChange\n",
        "\n",
        "        self.HybridGAIterations = HybridGAIterations\n",
        "        self.HybridSAIterations = HybridSAIterations\n",
        "\n",
        "        #split into weights and values\n",
        "        self.weights = []\n",
        "        self.values = []\n",
        "        for pair in self.arr[1:]:\n",
        "            self.values.append(pair[0])\n",
        "            self.weights.append(pair[1])\n",
        "\n",
        "        #Initialize problem\n",
        "        self.myKnapSack = KS.Knapsack(weights=self.weights,values=self.values,maxWeight=self.max_weight)\n",
        "\n",
        "        #Initialize an algorithm\n",
        "        self.algorithm = None\n",
        "        if algorithm==1:\n",
        "            self.algorithm = Algorithms.GeneticAlgorithm(pop_size=self.population_size,KnapsackObj=self.myKnapSack,pcross=self.Pcross,pmutate=self.Pmutate,MaxIterations=self.GA_iterations,k=self.k)\n",
        "        elif algorithm==2:\n",
        "            self.algorithm = Algorithms.SimulatedAnnealing(max_iterations=self.SA_iterations,temp_max=self.MaxTemp,temp_change=self.TempChange,KnapsackObj=self.myKnapSack)\n",
        "        else:\n",
        "            self.algorithm = Algorithms.GeneticAnnealing(population_size=self.population_size,problem_size=self.n_items,pcross=self.Pcross,pmutate=self.Pmutate,temp_max=self.MaxTemp,temp_change=self.TempChange,GA_iterations=self.HybridGAIterations,SA_iterations=self.HybridSAIterations,k=self.k,KnapsackObj=self.myKnapSack)\n",
        "\n",
        "    def Run(self):\n",
        "        allX,allY = [],[] #iterations,fitness\n",
        "        v,w = [],[] #value,weight\n",
        "        o = []\n",
        "        t = []\n",
        "        solutions = []\n",
        "        for i in range(self.num_iterations):\n",
        "            best,x,y,operations,runt = self.algorithm.run()\n",
        "            allX.append(x)\n",
        "            allY.append(y)\n",
        "            o.append(operations)\n",
        "            t.append(runt)\n",
        "            v.append(self.myKnapSack.sumValues(best))\n",
        "            w.append(self.myKnapSack.sumWeights(best))\n",
        "            solutions.append(best)\n",
        "\n",
        "        #Plot\n",
        "        save_name = self.algorithm.getName()+\"_\"+str(self.num_iterations)+\"_\"+self.filename_w_ext\n",
        "        ut.plotgraph(allX,allY,self.algorithm.getName()+\": Fitness over \"+str(self.num_iterations)+\" iteration(s)\",save_name)\n",
        "        ut.scattergraph(v,w,self.optimal_value,self.algorithm.getName()+\": Value-Weigth Solution Pairs for \"+str(self.num_iterations)+\" iteration(s)\",save_name)\n",
        "\n",
        "        '''saving results to csv'''\n",
        "        data = list()\n",
        "        best_index = np.argmax(v)\n",
        "        #data.append(['Algorithm','Dataset','Iteration','Number Of Items','Best Value','Optimal Value','Shortfall','Operations','Time (Milli)'])\n",
        "        data.append([self.algorithm.getName(),self.filename_w_ext,self.num_iterations,self.n_items,v[best_index],self.optimal_value,self.optimal_value-v[best_index],o[best_index],t[best_index]])\n",
        "        ut.write_file(data,\"./\"+self.algorithm.getName()+\"_Results.csv\")\n",
        "        return v[best_index],w[best_index],solutions[best_index],self.max_weight,self.myKnapSack\n",
        "\n",
        "\n",
        "'''MAIN ENTRANCE HERE'''\n",
        "filenames = ut.getListofFiles('/content/sample_data/TestDataset')\n",
        "for f in filenames:\n",
        "    try:\n",
        "        print('Processing data set '+f)\n",
        "        m = Main(dataset='/content/sample_data/TestDataset/'+f,num_iterations=10,algorithm=0)\n",
        "        m.Run()\n",
        "        print('Done processing')\n",
        "    except Exception as e:\n",
        "        print(\"Something went wrong with \"+f)\n",
        "        print(e)\n",
        "        pass"
      ],
      "execution_count": 1,
      "outputs": [
        {
          "output_type": "stream",
          "text": [
            "Processing data set knapPI_3_500_1000_1\n",
            "Done processing\n",
            "Processing data set knapPI_1_100_1000_1\n",
            "Done processing\n",
            "Processing data set knapPI_2_10000_1000_1\n",
            "Done processing\n",
            "Processing data set knapPI_2_100_1000_1\n",
            "Done processing\n",
            "Processing data set f6_l-d_kp_10_60\n",
            "Done processing\n",
            "Processing data set knapPI_1_5000_1000_1\n",
            "Done processing\n",
            "Processing data set f8_l-d_kp_23_10000\n",
            "Done processing\n",
            "Processing data set knapPI_3_5000_1000_1\n",
            "Done processing\n",
            "Processing data set knapPI_3_10000_1000_1\n",
            "Done processing\n",
            "Processing data set knapPI_3_200_1000_1\n",
            "Done processing\n",
            "Processing data set f2_l-d_kp_20_878\n",
            "Done processing\n",
            "Processing data set knapPI_1_1000_1000_1\n",
            "Done processing\n",
            "Processing data set knapPI_2_1000_1000_1\n",
            "Done processing\n",
            "Processing data set f7_l-d_kp_7_50\n",
            "Done processing\n",
            "Processing data set f10_l-d_kp_20_879\n",
            "Done processing\n",
            "Processing data set knapPI_2_500_1000_1\n",
            "Done processing\n",
            "Processing data set knapPI_2_5000_1000_1\n",
            "Done processing\n",
            "Processing data set knapPI_1_2000_1000_1\n",
            "Done processing\n",
            "Processing data set knapPI_2_200_1000_1\n",
            "Done processing\n",
            "Processing data set knapPI_3_2000_1000_1\n",
            "Done processing\n",
            "Processing data set knapPI_1_500_1000_1\n",
            "Done processing\n",
            "Processing data set knapPI_3_1000_1000_1\n",
            "Done processing\n",
            "Processing data set f9_l-d_kp_5_80\n",
            "Done processing\n",
            "Processing data set knapPI_3_100_1000_1\n",
            "Done processing\n",
            "Processing data set f3_l-d_kp_4_20\n",
            "Done processing\n",
            "Processing data set knapPI_1_200_1000_1\n",
            "Done processing\n",
            "Processing data set f4_l-d_kp_4_11\n",
            "Done processing\n",
            "Processing data set knapPI_2_2000_1000_1\n",
            "Done processing\n",
            "Processing data set f1_l-d_kp_10_269\n",
            "Done processing\n",
            "Processing data set knapPI_1_10000_1000_1\n",
            "Done processing\n"
          ],
          "name": "stdout"
        },
        {
          "output_type": "display_data",
          "data": {
            "text/plain": [
              "<Figure size 432x288 with 0 Axes>"
            ]
          },
          "metadata": {
            "tags": []
          }
        }
      ]
    },
    {
      "cell_type": "code",
      "metadata": {
        "id": "1QhLlfTKzlzF"
      },
      "source": [
        ""
      ],
      "execution_count": null,
      "outputs": []
    }
  ]
}